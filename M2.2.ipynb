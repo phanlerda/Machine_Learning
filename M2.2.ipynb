{
 "cells": [
  {
   "cell_type": "markdown",
   "id": "b3c2cdbf",
   "metadata": {},
   "source": [
    "Phân loại hoa Iris"
   ]
  },
  {
   "cell_type": "code",
   "execution_count": 5,
   "id": "ceeb4c20",
   "metadata": {},
   "outputs": [],
   "source": [
    "from sklearn.datasets import load_iris\n",
    "import pandas as pd\n",
    "from sklearn.model_selection import train_test_split"
   ]
  },
  {
   "cell_type": "code",
   "execution_count": null,
   "id": "927f6033",
   "metadata": {},
   "outputs": [
    {
     "name": "stdout",
     "output_type": "stream",
     "text": [
      "Các loài hoa (target): ['setosa' 'versicolor' 'virginica']\n"
     ]
    }
   ],
   "source": [
    "# Tải dữ liệu\n",
    "iris = load_iris()\n",
    "X_iris = pd.DataFrame(iris.data, columns=iris.feature_names)\n",
    "y_iris = pd.Series(iris.target)\n",
    "\n",
    "print(\"Các loài hoa (target):\", iris.target_names) # 0: setosa, 1: versicolor, 2: virginica"
   ]
  },
  {
   "cell_type": "code",
   "execution_count": 6,
   "id": "7e8cd6b7",
   "metadata": {},
   "outputs": [],
   "source": [
    "# Chia dữ liệu\n",
    "X_train_iris, X_test_iris, y_train_iris, y_test_iris = train_test_split(X_iris, y_iris, test_size=0.2, random_state=42)"
   ]
  },
  {
   "cell_type": "code",
   "execution_count": 7,
   "id": "e0324477",
   "metadata": {},
   "outputs": [],
   "source": [
    "from sklearn.linear_model import LogisticRegression\n",
    "from sklearn.neighbors import KNeighborsClassifier\n",
    "from sklearn.metrics import accuracy_score, classification_report, confusion_matrix"
   ]
  },
  {
   "cell_type": "code",
   "execution_count": 8,
   "id": "a6ee2f58",
   "metadata": {},
   "outputs": [
    {
     "name": "stdout",
     "output_type": "stream",
     "text": [
      "\n",
      "--- Huấn luyện với Logistic Regression ---\n",
      "Độ chính xác (Accuracy): 1.0\n",
      "\n",
      "Báo cáo phân loại chi tiết:\n",
      "              precision    recall  f1-score   support\n",
      "\n",
      "      setosa       1.00      1.00      1.00        10\n",
      "  versicolor       1.00      1.00      1.00         9\n",
      "   virginica       1.00      1.00      1.00        11\n",
      "\n",
      "    accuracy                           1.00        30\n",
      "   macro avg       1.00      1.00      1.00        30\n",
      "weighted avg       1.00      1.00      1.00        30\n",
      "\n"
     ]
    }
   ],
   "source": [
    "# --- MÔ HÌNH 1: LOGISTIC REGRESSION ---\n",
    "print(\"\\n--- Huấn luyện với Logistic Regression ---\")\n",
    "log_reg = LogisticRegression(max_iter=200) # Tăng max_iter để đảm bảo mô hình hội tụ\n",
    "log_reg.fit(X_train_iris, y_train_iris)\n",
    "y_pred_log_reg = log_reg.predict(X_test_iris)\n",
    "\n",
    "print(\"Độ chính xác (Accuracy):\", accuracy_score(y_test_iris, y_pred_log_reg))\n",
    "print(\"\\nBáo cáo phân loại chi tiết:\")\n",
    "print(classification_report(y_test_iris, y_pred_log_reg, target_names=iris.target_names))"
   ]
  },
  {
   "cell_type": "code",
   "execution_count": 9,
   "id": "d98fe474",
   "metadata": {},
   "outputs": [
    {
     "name": "stdout",
     "output_type": "stream",
     "text": [
      "\n",
      "--- Huấn luyện với K-Nearest Neighbors (K=3) ---\n",
      "Độ chính xác (Accuracy): 1.0\n",
      "\n",
      "Báo cáo phân loại chi tiết:\n",
      "              precision    recall  f1-score   support\n",
      "\n",
      "      setosa       1.00      1.00      1.00        10\n",
      "  versicolor       1.00      1.00      1.00         9\n",
      "   virginica       1.00      1.00      1.00        11\n",
      "\n",
      "    accuracy                           1.00        30\n",
      "   macro avg       1.00      1.00      1.00        30\n",
      "weighted avg       1.00      1.00      1.00        30\n",
      "\n"
     ]
    }
   ],
   "source": [
    "# --- MÔ HÌNH 2: K-NEAREST NEIGHBORS (K-NN) ---\n",
    "print(\"\\n--- Huấn luyện với K-Nearest Neighbors (K=3) ---\")\n",
    "knn = KNeighborsClassifier(n_neighbors=3)\n",
    "knn.fit(X_train_iris, y_train_iris)\n",
    "y_pred_knn = knn.predict(X_test_iris)\n",
    "\n",
    "print(\"Độ chính xác (Accuracy):\", accuracy_score(y_test_iris, y_pred_knn))\n",
    "print(\"\\nBáo cáo phân loại chi tiết:\")\n",
    "print(classification_report(y_test_iris, y_pred_knn, target_names=iris.target_names))"
   ]
  }
 ],
 "metadata": {
  "kernelspec": {
   "display_name": "myenv",
   "language": "python",
   "name": "python3"
  },
  "language_info": {
   "codemirror_mode": {
    "name": "ipython",
    "version": 3
   },
   "file_extension": ".py",
   "mimetype": "text/x-python",
   "name": "python",
   "nbconvert_exporter": "python",
   "pygments_lexer": "ipython3",
   "version": "3.11.13"
  }
 },
 "nbformat": 4,
 "nbformat_minor": 5
}
