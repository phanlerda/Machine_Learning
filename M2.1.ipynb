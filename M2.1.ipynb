{
 "cells": [
  {
   "cell_type": "markdown",
   "id": "1a9b663f",
   "metadata": {},
   "source": [
    "Dự đoán giá nhà tại California"
   ]
  },
  {
   "cell_type": "code",
   "execution_count": 1,
   "id": "15a08613",
   "metadata": {},
   "outputs": [],
   "source": [
    "import pandas as pd\n",
    "from sklearn.datasets import fetch_california_housing\n",
    "from sklearn.model_selection import train_test_split\n"
   ]
  },
  {
   "cell_type": "code",
   "execution_count": 3,
   "id": "2806f63d",
   "metadata": {},
   "outputs": [],
   "source": [
    "# Tải dữ liệu\n",
    "housing = fetch_california_housing()\n",
    "X = pd.DataFrame(housing.data, columns=housing.feature_names)\n",
    "y = pd.Series(housing.target)"
   ]
  },
  {
   "cell_type": "code",
   "execution_count": 4,
   "id": "f5e794c7",
   "metadata": {},
   "outputs": [
    {
     "name": "stdout",
     "output_type": "stream",
     "text": [
      "Các đặc trưng (X):\n",
      "   MedInc  HouseAge  AveRooms  AveBedrms  Population  AveOccup  Latitude  \\\n",
      "0  8.3252      41.0  6.984127   1.023810       322.0  2.555556     37.88   \n",
      "1  8.3014      21.0  6.238137   0.971880      2401.0  2.109842     37.86   \n",
      "2  7.2574      52.0  8.288136   1.073446       496.0  2.802260     37.85   \n",
      "3  5.6431      52.0  5.817352   1.073059       558.0  2.547945     37.85   \n",
      "4  3.8462      52.0  6.281853   1.081081       565.0  2.181467     37.85   \n",
      "\n",
      "   Longitude  \n",
      "0    -122.23  \n",
      "1    -122.22  \n",
      "2    -122.24  \n",
      "3    -122.25  \n",
      "4    -122.25  \n",
      "\n",
      "Giá trị cần dự đoán (y) - đơn vị: $100,000\n",
      "0    4.526\n",
      "1    3.585\n",
      "2    3.521\n",
      "3    3.413\n",
      "4    3.422\n",
      "dtype: float64\n"
     ]
    }
   ],
   "source": [
    "# Hiểu nhanh về dữ liệu\n",
    "print(\"Các đặc trưng (X):\")\n",
    "print(X.head())\n",
    "print(\"\\nGiá trị cần dự đoán (y) - đơn vị: $100,000\")\n",
    "print(y.head())"
   ]
  },
  {
   "cell_type": "code",
   "execution_count": 6,
   "id": "b335b701",
   "metadata": {},
   "outputs": [
    {
     "name": "stdout",
     "output_type": "stream",
     "text": [
      "\n",
      "Kích thước tập huấn luyện: (16512, 8)\n",
      "Kích thước tập kiểm tra: (4128, 8)\n"
     ]
    }
   ],
   "source": [
    "# Chia dữ liệu thành tập huấn luyện (train) và tập kiểm tra (test)\n",
    "# 80% cho huấn luyện, 20% cho kiểm tra. random_state để đảm bảo kết quả có thể tái lập.\n",
    "X_train, X_test, y_train, y_test = train_test_split(X, y, test_size=0.2, random_state=42)\n",
    "print(f\"\\nKích thước tập huấn luyện: {X_train.shape}\")\n",
    "print(f\"Kích thước tập kiểm tra: {X_test.shape}\")"
   ]
  },
  {
   "cell_type": "code",
   "execution_count": 7,
   "id": "a51f8f8f",
   "metadata": {},
   "outputs": [
    {
     "name": "stdout",
     "output_type": "stream",
     "text": [
      "\n",
      "--- KẾT QUẢ ĐÁNH GIÁ MÔ HÌNH ---\n",
      "Mean Absolute Error (MAE): 0.5332\n",
      "Mean Squared Error (MSE): 0.5559\n",
      "R-squared (R2 Score): 0.5758\n"
     ]
    }
   ],
   "source": [
    "from sklearn.linear_model import LinearRegression\n",
    "from sklearn.metrics import mean_absolute_error, mean_squared_error, r2_score\n",
    "\n",
    "# 1. Khởi tạo mô hình\n",
    "model = LinearRegression()\n",
    "\n",
    "# 2. Huấn luyện mô hình với dữ liệu huấn luyện\n",
    "model.fit(X_train, y_train)\n",
    "\n",
    "# 3. Dự đoán trên dữ liệu kiểm tra\n",
    "y_pred = model.predict(X_test)\n",
    "\n",
    "# 4. Đánh giá mô hình\n",
    "mae = mean_absolute_error(y_test, y_pred)\n",
    "mse = mean_squared_error(y_test, y_pred)\n",
    "r2 = r2_score(y_test, y_pred)\n",
    "\n",
    "print(\"\\n--- KẾT QUẢ ĐÁNH GIÁ MÔ HÌNH ---\")\n",
    "print(f\"Mean Absolute Error (MAE): {mae:.4f}\")\n",
    "print(f\"Mean Squared Error (MSE): {mse:.4f}\")\n",
    "print(f\"R-squared (R2 Score): {r2:.4f}\")"
   ]
  }
 ],
 "metadata": {
  "kernelspec": {
   "display_name": "myenv",
   "language": "python",
   "name": "python3"
  },
  "language_info": {
   "codemirror_mode": {
    "name": "ipython",
    "version": 3
   },
   "file_extension": ".py",
   "mimetype": "text/x-python",
   "name": "python",
   "nbconvert_exporter": "python",
   "pygments_lexer": "ipython3",
   "version": "3.11.13"
  }
 },
 "nbformat": 4,
 "nbformat_minor": 5
}
